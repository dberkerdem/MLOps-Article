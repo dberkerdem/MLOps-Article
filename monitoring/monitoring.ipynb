{
 "cells": [
  {
   "cell_type": "code",
   "execution_count": null,
   "metadata": {},
   "outputs": [],
   "source": [
    "\"\"\"\n",
    "Python 3.8.10\n",
    "\"\"\""
   ]
  },
  {
   "cell_type": "code",
   "execution_count": 1,
   "metadata": {
    "ExecuteTime": {
     "end_time": "2023-09-14T08:56:21.836681300Z",
     "start_time": "2023-09-14T08:56:20.155954500Z"
    },
    "collapsed": false
   },
   "outputs": [],
   "source": [
    "import json\n",
    "import pandas as pd\n",
    "from datetime import datetime, timedelta\n",
    "\n",
    "from configs import load_config\n",
    "from aws import fetch_metrics_of_ec2"
   ]
  },
  {
   "cell_type": "code",
   "execution_count": 2,
   "metadata": {},
   "outputs": [],
   "source": [
    "# Set the parameters & don't forget to create a config\n",
    "\n",
    "config_path = \"./configs/config.yml\"\n",
    "run_id = \"test\"\n",
    "export_as = \"parquet\"\n",
    "experment_duration = 60  # minutes\n",
    "experiment_start_date = datetime.utcnow() - timedelta(hours=1)"
   ]
  },
  {
   "cell_type": "code",
   "execution_count": 3,
   "metadata": {},
   "outputs": [],
   "source": [
    "config = load_config(config_path)"
   ]
  },
  {
   "cell_type": "code",
   "execution_count": 4,
   "metadata": {
    "ExecuteTime": {
     "end_time": "2023-09-14T08:56:24.931085200Z",
     "start_time": "2023-09-14T08:56:21.850348200Z"
    },
    "collapsed": false
   },
   "outputs": [],
   "source": [
    "# Fetch&Export results\n",
    "\n",
    "config = load_config(config_path)\n",
    "\n",
    "# Add other parameters\n",
    "config[\"run_id\"] = run_id\n",
    "config[\"export_as\"] = export_as\n",
    "config[\"start\"] = experiment_start_date\n",
    "config[\"minutes\"] = experment_duration\n",
    "# config[\"period\"] = 10\n",
    "\n",
    "results_path = fetch_metrics_of_ec2(**config)"
   ]
  },
  {
   "cell_type": "code",
   "execution_count": 5,
   "metadata": {},
   "outputs": [],
   "source": [
    "if export_as == \"parquet\":\n",
    "    data = pd.read_parquet(results_path)\n",
    "elif export_as == \"json\":\n",
    "    with open(results_path, 'w') as f:\n",
    "        data = json.load(f)"
   ]
  }
 ],
 "metadata": {
  "kernelspec": {
   "display_name": "AnomalyEngine",
   "language": "python",
   "name": "python3"
  },
  "language_info": {
   "codemirror_mode": {
    "name": "ipython",
    "version": 3
   },
   "file_extension": ".py",
   "mimetype": "text/x-python",
   "name": "python",
   "nbconvert_exporter": "python",
   "pygments_lexer": "ipython3",
   "version": "3.8.10"
  },
  "orig_nbformat": 4
 },
 "nbformat": 4,
 "nbformat_minor": 2
}
