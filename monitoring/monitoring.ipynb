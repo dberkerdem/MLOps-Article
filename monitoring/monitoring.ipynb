{
 "cells": [
  {
   "cell_type": "code",
   "execution_count": 1,
   "metadata": {},
   "outputs": [
    {
     "name": "stdout",
     "output_type": "stream",
     "text": [
      "Package                  Version\n",
      "------------------------ -----------\n",
      "anyio                    3.6.2\n",
      "argon2-cffi              21.3.0\n",
      "argon2-cffi-bindings     21.2.0\n",
      "arrow                    1.2.3\n",
      "astroid                  2.15.4\n",
      "asttokens                2.2.1\n",
      "attrs                    22.2.0\n",
      "backcall                 0.2.0\n",
      "beautifulsoup4           4.11.2\n",
      "bleach                   6.0.0\n",
      "boto3                    1.28.46\n",
      "botocore                 1.31.46\n",
      "certifi                  2023.7.22\n",
      "cffi                     1.15.1\n",
      "charset-normalizer       3.2.0\n",
      "clearml                  1.12.2\n",
      "colorama                 0.4.6\n",
      "comm                     0.1.2\n",
      "contourpy                1.0.7\n",
      "cycler                   0.11.0\n",
      "debugpy                  1.6.6\n",
      "decorator                5.1.1\n",
      "defusedxml               0.7.1\n",
      "dill                     0.3.6\n",
      "executing                1.2.0\n",
      "fastjsonschema           2.16.2\n",
      "flake8                   6.0.0\n",
      "fonttools                4.38.0\n",
      "fqdn                     1.5.1\n",
      "furl                     2.1.3\n",
      "graphviz                 0.20.1\n",
      "idna                     3.4\n",
      "importlib-metadata       6.0.0\n",
      "importlib-resources      5.10.2\n",
      "ipykernel                6.21.1\n",
      "ipython                  8.9.0\n",
      "ipython-genutils         0.2.0\n",
      "ipywidgets               8.0.4\n",
      "isoduration              20.11.0\n",
      "isort                    5.12.0\n",
      "jedi                     0.18.2\n",
      "Jinja2                   3.1.2\n",
      "jmespath                 1.0.1\n",
      "joblib                   1.2.0\n",
      "jsonpointer              2.3\n",
      "jsonschema               4.17.3\n",
      "jupyter                  1.0.0\n",
      "jupyter_client           8.0.2\n",
      "jupyter-console          6.4.4\n",
      "jupyter_core             5.2.0\n",
      "jupyter-events           0.6.3\n",
      "jupyter_server           2.2.1\n",
      "jupyter_server_terminals 0.4.4\n",
      "jupyterlab-pygments      0.2.2\n",
      "jupyterlab-widgets       3.0.5\n",
      "kiwisolver               1.4.4\n",
      "MarkupSafe               2.1.2\n",
      "matplotlib               3.6.3\n",
      "matplotlib-inline        0.1.6\n",
      "mccabe                   0.7.0\n",
      "mistune                  2.0.5\n",
      "nbclassic                0.5.1\n",
      "nbclient                 0.7.2\n",
      "nbconvert                7.2.9\n",
      "nbformat                 5.7.3\n",
      "nest-asyncio             1.5.6\n",
      "notebook                 6.5.2\n",
      "notebook_shim            0.2.2\n",
      "numpy                    1.24.2\n",
      "orderedmultidict         1.0.1\n",
      "packaging                23.0\n",
      "pandas                   1.5.3\n",
      "pandocfilters            1.5.0\n",
      "parso                    0.8.3\n",
      "pathlib2                 2.3.7.post1\n",
      "pickleshare              0.7.5\n",
      "Pillow                   9.4.0\n",
      "pip                      23.1.2\n",
      "pkgutil_resolve_name     1.3.10\n",
      "platformdirs             3.0.0\n",
      "prometheus-client        0.16.0\n",
      "prompt-toolkit           3.0.36\n",
      "psutil                   5.9.4\n",
      "pure-eval                0.2.2\n",
      "pyarrow                  13.0.0\n",
      "pycodestyle              2.10.0\n",
      "pycparser                2.21\n",
      "pyflakes                 3.0.1\n",
      "Pygments                 2.14.0\n",
      "PyJWT                    2.4.0\n",
      "pylint                   2.17.4\n",
      "pyparsing                3.0.9\n",
      "pyrsistent               0.19.3\n",
      "python-dateutil          2.8.2\n",
      "python-json-logger       2.0.4\n",
      "pytz                     2022.7.1\n",
      "pywin32                  305\n",
      "pywinpty                 2.0.10\n",
      "PyYAML                   6.0\n",
      "pyzmq                    25.0.0\n",
      "qtconsole                5.4.0\n",
      "QtPy                     2.3.0\n",
      "requests                 2.31.0\n",
      "rfc3339-validator        0.1.4\n",
      "rfc3986-validator        0.1.1\n",
      "s3transfer               0.6.2\n",
      "scikit-learn             1.2.1\n",
      "scipy                    1.10.0\n",
      "Send2Trash               1.8.0\n",
      "setuptools               65.5.1\n",
      "six                      1.16.0\n",
      "sniffio                  1.3.0\n",
      "soupsieve                2.3.2.post1\n",
      "stack-data               0.6.2\n",
      "terminado                0.17.1\n",
      "threadpoolctl            3.1.0\n",
      "tinycss2                 1.2.1\n",
      "tomli                    2.0.1\n",
      "tomlkit                  0.11.8\n",
      "tornado                  6.2\n",
      "traitlets                5.9.0\n",
      "typing_extensions        4.5.0\n",
      "uri-template             1.2.0\n",
      "urllib3                  1.26.16\n",
      "wcwidth                  0.2.6\n",
      "webcolors                1.12\n",
      "webencodings             0.5.1\n",
      "websocket-client         1.5.1\n",
      "wheel                    0.38.4\n",
      "widgetsnbextension       4.0.5\n",
      "wrapt                    1.15.0\n",
      "zipp                     3.12.1\n"
     ]
    },
    {
     "name": "stderr",
     "output_type": "stream",
     "text": [
      "\n",
      "[notice] A new release of pip is available: 23.1.2 -> 23.2.1\n",
      "[notice] To update, run: python.exe -m pip install --upgrade pip\n"
     ]
    }
   ],
   "source": [
    "!pip list"
   ]
  },
  {
   "cell_type": "code",
   "execution_count": null,
   "metadata": {},
   "outputs": [],
   "source": [
    "\"\"\"\n",
    "Python 3.8.10\n",
    "\"\"\""
   ]
  },
  {
   "cell_type": "code",
   "execution_count": 1,
   "metadata": {
    "ExecuteTime": {
     "end_time": "2023-09-14T08:56:21.836681300Z",
     "start_time": "2023-09-14T08:56:20.155954500Z"
    },
    "collapsed": false
   },
   "outputs": [],
   "source": [
    "import json\n",
    "import pandas as pd\n",
    "from datetime import datetime, timedelta\n",
    "\n",
    "from configs import load_config\n",
    "from aws import fetch_metrics_of_ec2"
   ]
  },
  {
   "cell_type": "code",
   "execution_count": 2,
   "metadata": {},
   "outputs": [],
   "source": [
    "# Set the parameters & don't forget to create a config\n",
    "\n",
    "config_path = \"./configs/config.yml\"\n",
    "run_id = \"test\"\n",
    "export_as = \"parquet\"\n",
    "experment_duration = 60  # minutes\n",
    "experiment_start_date = datetime.utcnow() - timedelta(hours=1)"
   ]
  },
  {
   "cell_type": "code",
   "execution_count": 3,
   "metadata": {},
   "outputs": [],
   "source": [
    "config = load_config(config_path)"
   ]
  },
  {
   "cell_type": "code",
   "execution_count": 4,
   "metadata": {
    "ExecuteTime": {
     "end_time": "2023-09-14T08:56:24.931085200Z",
     "start_time": "2023-09-14T08:56:21.850348200Z"
    },
    "collapsed": false
   },
   "outputs": [],
   "source": [
    "# Fetch&Export results\n",
    "\n",
    "config = load_config(config_path)\n",
    "\n",
    "# Add other parameters\n",
    "config[\"run_id\"] = run_id\n",
    "config[\"export_as\"] = export_as\n",
    "config[\"start\"] = experiment_start_date\n",
    "config[\"minutes\"] = experment_duration\n",
    "# config[\"period\"] = 10\n",
    "\n",
    "results_path = fetch_metrics_of_ec2(**config)"
   ]
  },
  {
   "cell_type": "code",
   "execution_count": 5,
   "metadata": {},
   "outputs": [],
   "source": [
    "if export_as == \"parquet\":\n",
    "    data = pd.read_parquet(results_path)\n",
    "elif export_as == \"json\":\n",
    "    with open(results_path, 'w') as f:\n",
    "        data = json.load(f)"
   ]
  }
 ],
 "metadata": {
  "kernelspec": {
   "display_name": "AnomalyEngine",
   "language": "python",
   "name": "python3"
  },
  "language_info": {
   "codemirror_mode": {
    "name": "ipython",
    "version": 3
   },
   "file_extension": ".py",
   "mimetype": "text/x-python",
   "name": "python",
   "nbconvert_exporter": "python",
   "pygments_lexer": "ipython3",
   "version": "3.8.10"
  },
  "orig_nbformat": 4
 },
 "nbformat": 4,
 "nbformat_minor": 2
}
